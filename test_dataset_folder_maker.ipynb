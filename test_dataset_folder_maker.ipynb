{
 "cells": [
  {
   "cell_type": "code",
   "execution_count": 1,
   "metadata": {},
   "outputs": [],
   "source": [
    "images_path = r\"tf/data/HCMV_v6/test\""
   ]
  },
  {
   "cell_type": "code",
   "execution_count": 7,
   "metadata": {},
   "outputs": [
    {
     "name": "stdout",
     "output_type": "stream",
     "text": [
      "3287\n"
     ]
    }
   ],
   "source": [
    "import os\n",
    "images_path = r\"/tf/data/HCMV_v6/test/\"\n",
    "files = os.listdir(images_path)\n",
    "print(len(files))"
   ]
  },
  {
   "cell_type": "code",
   "execution_count": 11,
   "metadata": {},
   "outputs": [
    {
     "name": "stdout",
     "output_type": "stream",
     "text": [
      "149_20191126_repD_TB96_13075_5\n"
     ]
    }
   ],
   "source": [
    "print(files[1][:-4])\n"
   ]
  },
  {
   "cell_type": "code",
   "execution_count": 3,
   "metadata": {},
   "outputs": [],
   "source": [
    "#files_filtered_NUC = [f for f in files if \"_NUC.png\" in f]\n",
    "#files_filtered_AC = [f for f in files if \"_AC.png\" in f]\n",
    "#files_filtered_BLUR = [f for f in files if \"_BLUR\" in f]"
   ]
  },
  {
   "cell_type": "code",
   "execution_count": 12,
   "metadata": {},
   "outputs": [],
   "source": [
    "#print(len(files_filtered_NUC))\n",
    "#print(len(files_filtered_AC))\n",
    "#print(len(files_filtered_BLUR))"
   ]
  },
  {
   "cell_type": "code",
   "execution_count": 13,
   "metadata": {},
   "outputs": [],
   "source": [
    "#now we want to take the _TB files\n",
    "#print(files_filtered_AC[1])\n",
    "#print(files_filtered_AC[1][:-7])\n",
    "#print(files_filtered_NUC[1])\n",
    "#print(files_filtered_NUC[1][:-8])"
   ]
  },
  {
   "cell_type": "code",
   "execution_count": 14,
   "metadata": {},
   "outputs": [],
   "source": [
    "#import pandas as pd\n",
    "#df_NUC = pd.DataFrame(files_filtered_NUC)\n",
    "#df_AC = pd.DataFrame(files_filtered_AC) "
   ]
  },
  {
   "cell_type": "code",
   "execution_count": 15,
   "metadata": {},
   "outputs": [],
   "source": [
    "#df_NUC.iloc[:,0].str[:-8]"
   ]
  },
  {
   "cell_type": "code",
   "execution_count": 16,
   "metadata": {},
   "outputs": [],
   "source": [
    "#print(df_NUC.shape)\n",
    "#print(df_AC.shape)"
   ]
  },
  {
   "cell_type": "code",
   "execution_count": 17,
   "metadata": {},
   "outputs": [],
   "source": [
    "#df_NUC[\"ID\"] = df_NUC.iloc[:,0].str[:-8]\n",
    "#df_NUC.set_index(\"ID\",inplace=True)\n",
    "#df_NUC.index"
   ]
  },
  {
   "cell_type": "code",
   "execution_count": 18,
   "metadata": {},
   "outputs": [],
   "source": [
    "#df_AC[\"ID\"] = df_AC.iloc[:,0].str[:-7]\n",
    "#df_AC.set_index(\"ID\",inplace=True)\n",
    "#df_AC.index"
   ]
  },
  {
   "cell_type": "code",
   "execution_count": 34,
   "metadata": {},
   "outputs": [],
   "source": [
    "#df_NUC_AC_inner = pd.merge(df_NUC, df_AC, left_index=True, right_index=True)"
   ]
  },
  {
   "cell_type": "code",
   "execution_count": 35,
   "metadata": {},
   "outputs": [
    {
     "data": {
      "text/plain": [
       "(3982, 2)"
      ]
     },
     "execution_count": 35,
     "metadata": {},
     "output_type": "execute_result"
    }
   ],
   "source": [
    "#df_NUC_AC_inner.shape"
   ]
  },
  {
   "cell_type": "code",
   "execution_count": 36,
   "metadata": {},
   "outputs": [],
   "source": [
    "#files_filtered = df_NUC_AC_inner.index.values"
   ]
  },
  {
   "cell_type": "code",
   "execution_count": 37,
   "metadata": {},
   "outputs": [
    {
     "data": {
      "text/plain": [
       "array(['117_20181023_repB_96hpi_1020_9_RGB',\n",
       "       '117_20181023_repB_96hpi_1329_2_RGB',\n",
       "       '117_20181023_repB_96hpi_1581_7_RGB', ...,\n",
       "       '117_20190707_repL_96hpi_995_4_RGB',\n",
       "       '117_20190707_repL_96hpi_996_2_RGB',\n",
       "       '117_20190707_repL_96hpi_998_5_RGB'], dtype=object)"
      ]
     },
     "execution_count": 37,
     "metadata": {},
     "output_type": "execute_result"
    }
   ],
   "source": [
    "#files_filtered "
   ]
  },
  {
   "cell_type": "code",
   "execution_count": 21,
   "metadata": {},
   "outputs": [],
   "source": [
    "import shutil\n",
    "for f in files:\n",
    "    os.makedirs(os.path.join(images_path, f[:-4]),exist_ok=True)\n",
    "    os.makedirs(os.path.join(images_path, f[:-4], \"images\"),exist_ok=True)\n",
    "    shutil.move(os.path.join(images_path, f[:-4]+\".jpg\"), os.path.join(images_path, f[:-4], \"images\", f[:-4]+\".jpg\")) \n",
    "    \n",
    "    #os.makedirs(os.path.join(dest_path, f, \"masks\"))\n",
    "    #shutil.copy(os.path.join(masks_path, f + \"_AC.png\"), os.path.join(dest_path, f, \"masks\", f +\"_AC.png\"))\n",
    "    #shutil.copy(os.path.join(masks_path, f + \"_NUC.png\"), os.path.join(dest_path, f, \"masks\", f +\"_NUC.png\"))\n"
   ]
  },
  {
   "cell_type": "code",
   "execution_count": null,
   "metadata": {},
   "outputs": [],
   "source": []
  }
 ],
 "metadata": {
  "kernelspec": {
   "display_name": "Python 3",
   "language": "python",
   "name": "python3"
  },
  "language_info": {
   "codemirror_mode": {
    "name": "ipython",
    "version": 3
   },
   "file_extension": ".py",
   "mimetype": "text/x-python",
   "name": "python",
   "nbconvert_exporter": "python",
   "pygments_lexer": "ipython3",
   "version": "3.7.4"
  }
 },
 "nbformat": 4,
 "nbformat_minor": 4
}
